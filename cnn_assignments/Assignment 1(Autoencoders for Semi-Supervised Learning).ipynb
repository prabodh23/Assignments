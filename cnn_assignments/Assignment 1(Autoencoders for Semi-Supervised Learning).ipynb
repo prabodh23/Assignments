{
 "cells": [
  {
   "cell_type": "code",
   "execution_count": 1,
   "metadata": {},
   "outputs": [
    {
     "name": "stderr",
     "output_type": "stream",
     "text": [
      "Using TensorFlow backend.\n",
      "/home/admin-pc/.virtualenvs/cv2_python3/lib/python3.5/importlib/_bootstrap.py:222: RuntimeWarning: numpy.dtype size changed, may indicate binary incompatibility. Expected 96, got 88\n",
      "  return f(*args, **kwds)\n",
      "/home/admin-pc/.virtualenvs/cv2_python3/lib/python3.5/site-packages/h5py/__init__.py:34: FutureWarning: Conversion of the second argument of issubdtype from `float` to `np.floating` is deprecated. In future, it will be treated as `np.float64 == np.dtype(float).type`.\n",
      "  from ._conv import register_converters as _register_converters\n",
      "/home/admin-pc/.virtualenvs/cv2_python3/lib/python3.5/importlib/_bootstrap.py:222: RuntimeWarning: numpy.dtype size changed, may indicate binary incompatibility. Expected 96, got 88\n",
      "  return f(*args, **kwds)\n",
      "/home/admin-pc/.virtualenvs/cv2_python3/lib/python3.5/importlib/_bootstrap.py:222: RuntimeWarning: numpy.dtype size changed, may indicate binary incompatibility. Expected 96, got 88\n",
      "  return f(*args, **kwds)\n",
      "/home/admin-pc/.virtualenvs/cv2_python3/lib/python3.5/importlib/_bootstrap.py:222: RuntimeWarning: numpy.dtype size changed, may indicate binary incompatibility. Expected 96, got 88\n",
      "  return f(*args, **kwds)\n"
     ]
    }
   ],
   "source": [
    "\"\"\"\n",
    "Use any programming language you'd like (Preferably Python and Keras or TensorFlow)\n",
    "1. Implement a CNN in which the input is a noisy number and the output is a denoised number.\n",
    "Use MNIST dataset. Use Gaussian distribution to add noise to the input. Plot the training & validation loss.\n",
    "Build a classifier based on the trained Autoencoder. Extract the trained encoder and add some fully connected \n",
    "layers to classify the digits [Semi - Supervised Classification using Autoencoders]. Look up Google for more info.\"\"\"\n",
    "\n",
    "# 1. Implementation of a CNN in which the input is a noisy number and the output is a denoised number.\n",
    "\n",
    "# Importing the required Keras modules containing model and layers\n",
    "from keras.models import Model, Sequential\n",
    "from keras.datasets import mnist\n",
    "import numpy as np\n",
    "from keras.layers import Input, Dense, Conv2D, MaxPooling2D, UpSampling2D, Dropout, Flatten\n",
    "# Creating a Sequential Model and adding the layers\n",
    "\n"
   ]
  },
  {
   "cell_type": "code",
   "execution_count": 56,
   "metadata": {},
   "outputs": [],
   "source": [
    "(x_train, y_train), (x_test, y_test) = mnist.load_data()"
   ]
  },
  {
   "cell_type": "code",
   "execution_count": 70,
   "metadata": {},
   "outputs": [
    {
     "data": {
      "image/png": "[encoded data removed]",
      "text/plain": [
       "<matplotlib.figure.Figure at 0x7f5d79f33cf8>"
      ]
     },
     "metadata": {
      "needs_background": "light"
     },
     "output_type": "display_data"
    }
   ],
   "source": [
    "# Visiualize the dataset \n",
    "\n",
    "import matplotlib.pyplot as plt\n",
    "\n",
    "n = 10  \n",
    "plt.figure(figsize=(20, 4))\n",
    "\n",
    "for i in range(n):\n",
    "    # display original\n",
    "    ax = plt.subplot(2, n, i + 1)\n",
    "    plt.imshow(x_test[i].reshape(28, 28))\n",
    "    plt.gray()\n",
    "    ax.get_xaxis().set_visible(False)\n",
    "    ax.get_yaxis().set_visible(False)\n",
    "\n",
    "plt.show()"
   ]
  },
  {
   "cell_type": "code",
   "execution_count": 4,
   "metadata": {},
   "outputs": [
    {
     "name": "stdout",
     "output_type": "stream",
     "text": [
      "WARNING:tensorflow:From /home/admin-pc/.virtualenvs/cv2_python3/lib/python3.5/site-packages/keras/backend/tensorflow_backend.py:55: The name tf.get_default_graph is deprecated. Please use tf.compat.v1.get_default_graph instead.\n",
      "\n",
      "WARNING:tensorflow:From /home/admin-pc/.virtualenvs/cv2_python3/lib/python3.5/site-packages/keras/backend/tensorflow_backend.py:391: The name tf.placeholder is deprecated. Please use tf.compat.v1.placeholder instead.\n",
      "\n",
      "WARNING:tensorflow:From /home/admin-pc/.virtualenvs/cv2_python3/lib/python3.5/site-packages/keras/backend/tensorflow_backend.py:3378: The name tf.random_uniform is deprecated. Please use tf.random.uniform instead.\n",
      "\n",
      "WARNING:tensorflow:From /home/admin-pc/.virtualenvs/cv2_python3/lib/python3.5/site-packages/keras/backend/tensorflow_backend.py:3245: The name tf.nn.max_pool is deprecated. Please use tf.nn.max_pool2d instead.\n",
      "\n"
     ]
    }
   ],
   "source": [
    "# The encoding process\n",
    "input_img = Input(shape=(28, 28, 1))  \n",
    "\n",
    "############\n",
    "# Encoding #\n",
    "############\n",
    "\n",
    "# Conv1 #\n",
    "x = Conv2D(filters = 16, kernel_size = (3, 3), activation='relu', padding='same')(input_img)\n",
    "x = MaxPooling2D(pool_size = (2, 2), padding='same')(x)\n",
    "\n",
    "# Conv2 #\n",
    "x = Conv2D(filters = 8, kernel_size = (3, 3), activation='relu', padding='same')(x)\n",
    "x = MaxPooling2D(pool_size = (2, 2), padding='same')(x) \n",
    "\n",
    "# Conv 3 #\n",
    "x = Conv2D(filters = 8,kernel_size = (3, 3), activation='relu', padding='same')(x)\n",
    "encoded = MaxPooling2D(pool_size = (2, 2), padding='same')(x)\n",
    "encoded_2 = MaxPooling2D(pool_size = (2, 2), padding='same')(x)\n",
    "# Note:\n",
    "# padding is a hyper-arameter for either 'valid' or 'same'. \n",
    "# \"valid\" means \"no padding\". \n",
    "# \"same\" results in padding the input such that the output has the same length as the original input.\n",
    "\n"
   ]
  },
  {
   "cell_type": "code",
   "execution_count": 5,
   "metadata": {},
   "outputs": [
    {
     "name": "stdout",
     "output_type": "stream",
     "text": [
      "WARNING:tensorflow:From /home/admin-pc/.virtualenvs/cv2_python3/lib/python3.5/site-packages/keras/backend/tensorflow_backend.py:1741: The name tf.image.resize_nearest_neighbor is deprecated. Please use tf.compat.v1.image.resize_nearest_neighbor instead.\n",
      "\n"
     ]
    }
   ],
   "source": [
    "\n",
    "############\n",
    "# Decoding #\n",
    "############\n",
    "\n",
    "# DeConv1\n",
    "x = Conv2D(8, (3, 3), activation='relu', padding='same')(encoded)\n",
    "x = UpSampling2D((2, 2))(x)\n",
    "\n",
    "# DeConv2\n",
    "x = Conv2D(8, (3, 3), activation='relu', padding='same')(x)\n",
    "x = UpSampling2D((2, 2))(x)\n",
    "\n",
    "# Deconv3\n",
    "x = Conv2D(16, (3, 3), activation='relu')(x)\n",
    "x = UpSampling2D((2, 2))(x)\n",
    "decoded = Conv2D(1, (3, 3), activation='sigmoid', padding='same')(x)"
   ]
  },
  {
   "cell_type": "code",
   "execution_count": 9,
   "metadata": {},
   "outputs": [
    {
     "name": "stdout",
     "output_type": "stream",
     "text": [
      "WARNING:tensorflow:From /home/admin-pc/.virtualenvs/cv2_python3/lib/python3.5/site-packages/keras/optimizers.py:675: The name tf.train.Optimizer is deprecated. Please use tf.compat.v1.train.Optimizer instead.\n",
      "\n",
      "WARNING:tensorflow:From /home/admin-pc/.virtualenvs/cv2_python3/lib/python3.5/site-packages/keras/backend/tensorflow_backend.py:2768: The name tf.log is deprecated. Please use tf.math.log instead.\n",
      "\n",
      "WARNING:tensorflow:From /home/admin-pc/.virtualenvs/cv2_python3/lib/python3.5/site-packages/tensorflow/python/ops/nn_impl.py:180: add_dispatch_support.<locals>.wrapper (from tensorflow.python.ops.array_ops) is deprecated and will be removed in a future version.\n",
      "Instructions for updating:\n",
      "Use tf.where in 2.0, which has the same broadcast rule as np.where\n"
     ]
    }
   ],
   "source": [
    "# Declare the model\n",
    "autoencoder = Model(input_img, decoded)\n",
    "autoencoder.compile(optimizer='adadelta', loss='binary_crossentropy')"
   ]
  },
  {
   "cell_type": "code",
   "execution_count": 6,
   "metadata": {},
   "outputs": [
    {
     "data": {
      "image/png": "[encoded data removed]",
      "text/plain": [
       "<matplotlib.figure.Figure at 0x7f5df2874b00>"
      ]
     },
     "metadata": {
      "needs_background": "light"
     },
     "output_type": "display_data"
    }
   ],
   "source": [
    "# Reshaping the array to 4-dims so that it can work with the Keras API\n",
    "x_train = x_train.reshape(x_train.shape[0], 28, 28, 1)\n",
    "x_test = x_test.reshape(x_test.shape[0], 28, 28, 1)\n",
    "\n",
    "noise_factor = 0.4\n",
    "\n",
    "# Gaussian distribution/ Normal distribution\n",
    "x_train_noisy = x_train + noise_factor * np.random.normal(loc=0.0, scale=1.0, size=x_train.shape) \n",
    "x_test_noisy = x_test + noise_factor * np.random.normal(loc=0.0, scale=1.0, size=x_test.shape) \n",
    "\n",
    "x_train_noisy = np.clip(x_train_noisy, 0., 1.)\n",
    "x_test_noisy = np.clip(x_test_noisy, 0., 1.)\n",
    "\n",
    "\n",
    "\n",
    "# Visiualize the x_test_noisy\n",
    "n = 10\n",
    "plt.figure(figsize=(20, 2))\n",
    "for i in range(n):\n",
    "    ax = plt.subplot(1, n, i+1)\n",
    "    plt.imshow(x_test_noisy[i].reshape(28, 28))\n",
    "    plt.gray()\n",
    "    ax.get_xaxis().set_visible(False)\n",
    "    ax.get_yaxis().set_visible(False)\n",
    "plt.show()\n"
   ]
  },
  {
   "cell_type": "code",
   "execution_count": 50,
   "metadata": {},
   "outputs": [
    {
     "name": "stdout",
     "output_type": "stream",
     "text": [
      "Train on 60000 samples, validate on 10000 samples\n",
      "Epoch 1/100\n",
      "60000/60000 [==============================] - 46s - loss: -506.2251 - val_loss: -529.3886\n",
      "Epoch 2/100\n",
      "60000/60000 [==============================] - 45s - loss: -523.8211 - val_loss: -531.4728\n",
      "Epoch 3/100\n",
      "60000/60000 [==============================] - 45s - loss: -524.5262 - val_loss: -532.2657\n",
      "Epoch 4/100\n",
      "60000/60000 [==============================] - 44s - loss: -524.7957 - val_loss: -532.4682\n",
      "Epoch 5/100\n",
      "60000/60000 [==============================] - 44s - loss: -524.9641 - val_loss: -532.4496\n",
      "Epoch 6/100\n",
      "60000/60000 [==============================] - 42s - loss: -525.0797 - val_loss: -532.7257\n",
      "Epoch 7/100\n",
      "60000/60000 [==============================] - 44s - loss: -525.1917 - val_loss: -532.7575\n",
      "Epoch 8/100\n",
      "60000/60000 [==============================] - 44s - loss: -525.2674 - val_loss: -532.7898\n",
      "Epoch 9/100\n",
      "60000/60000 [==============================] - 43s - loss: -525.3316 - val_loss: -532.8733\n",
      "Epoch 10/100\n",
      "60000/60000 [==============================] - 45s - loss: -525.4024 - val_loss: -533.0015\n",
      "Epoch 11/100\n",
      "60000/60000 [==============================] - 44s - loss: -525.4583 - val_loss: -533.0520\n",
      "Epoch 12/100\n",
      "60000/60000 [==============================] - 44s - loss: -525.5094 - val_loss: -533.1028\n",
      "Epoch 13/100\n",
      "60000/60000 [==============================] - 43s - loss: -525.5518 - val_loss: -533.1494\n",
      "Epoch 14/100\n",
      "60000/60000 [==============================] - 42s - loss: -525.5900 - val_loss: -533.1807\n",
      "Epoch 15/100\n",
      "60000/60000 [==============================] - 43s - loss: -525.6388 - val_loss: -533.1237\n",
      "Epoch 16/100\n",
      "60000/60000 [==============================] - 44s - loss: -525.6763 - val_loss: -533.2707\n",
      "Epoch 17/100\n",
      "60000/60000 [==============================] - 42s - loss: -525.7079 - val_loss: -533.2712\n",
      "Epoch 18/100\n",
      "60000/60000 [==============================] - 43s - loss: -525.7491 - val_loss: -533.3252\n",
      "Epoch 19/100\n",
      "60000/60000 [==============================] - 45s - loss: -525.7817 - val_loss: -533.3631\n",
      "Epoch 20/100\n",
      "60000/60000 [==============================] - 42s - loss: -525.8061 - val_loss: -533.3866\n",
      "Epoch 21/100\n",
      "60000/60000 [==============================] - 46s - loss: -525.8436 - val_loss: -533.4111\n",
      "Epoch 22/100\n",
      "60000/60000 [==============================] - 45s - loss: -525.8659 - val_loss: -533.4253\n",
      "Epoch 23/100\n",
      "60000/60000 [==============================] - 46s - loss: -525.8963 - val_loss: -533.4744\n",
      "Epoch 24/100\n",
      "60000/60000 [==============================] - 46s - loss: -525.9253 - val_loss: -533.4750\n",
      "Epoch 25/100\n",
      "60000/60000 [==============================] - 45s - loss: -525.9468 - val_loss: -533.4620\n",
      "Epoch 26/100\n",
      "60000/60000 [==============================] - 44s - loss: -525.9673 - val_loss: -533.5440\n",
      "Epoch 27/100\n",
      "60000/60000 [==============================] - 45s - loss: -525.9909 - val_loss: -533.5466\n",
      "Epoch 28/100\n",
      "60000/60000 [==============================] - 45s - loss: -526.0123 - val_loss: -533.5878\n",
      "Epoch 29/100\n",
      "60000/60000 [==============================] - 45s - loss: -526.0273 - val_loss: -533.5610\n",
      "Epoch 30/100\n",
      "60000/60000 [==============================] - 45s - loss: -526.0492 - val_loss: -533.6018\n",
      "Epoch 31/100\n",
      "60000/60000 [==============================] - 45s - loss: -526.0663 - val_loss: -533.5303\n",
      "Epoch 32/100\n",
      "60000/60000 [==============================] - 46s - loss: -526.0906 - val_loss: -533.6575\n",
      "Epoch 33/100\n",
      "60000/60000 [==============================] - 46s - loss: -526.1117 - val_loss: -533.6803\n",
      "Epoch 34/100\n",
      "60000/60000 [==============================] - 47s - loss: -526.1172 - val_loss: -533.6937\n",
      "Epoch 35/100\n",
      "60000/60000 [==============================] - 43s - loss: -526.1416 - val_loss: -533.6635\n",
      "Epoch 36/100\n",
      "60000/60000 [==============================] - 42s - loss: -526.1493 - val_loss: -533.5920\n",
      "Epoch 37/100\n",
      "60000/60000 [==============================] - 68s - loss: -526.1679 - val_loss: -533.7291\n",
      "Epoch 38/100\n",
      "60000/60000 [==============================] - 63s - loss: -526.1834 - val_loss: -533.6800\n",
      "Epoch 39/100\n",
      "60000/60000 [==============================] - 57s - loss: -526.1979 - val_loss: -533.4797\n",
      "Epoch 40/100\n",
      "60000/60000 [==============================] - 42s - loss: -526.2130 - val_loss: -533.7259\n",
      "Epoch 41/100\n",
      "60000/60000 [==============================] - 42s - loss: -526.2244 - val_loss: -533.7042\n",
      "Epoch 42/100\n",
      "60000/60000 [==============================] - 42s - loss: -526.2348 - val_loss: -533.7889\n",
      "Epoch 43/100\n",
      "60000/60000 [==============================] - 42s - loss: -526.2491 - val_loss: -533.7671\n",
      "Epoch 44/100\n",
      "60000/60000 [==============================] - 43s - loss: -526.2617 - val_loss: -533.8176\n",
      "Epoch 45/100\n",
      "60000/60000 [==============================] - 42s - loss: -526.2743 - val_loss: -533.7753\n",
      "Epoch 46/100\n",
      "60000/60000 [==============================] - 42s - loss: -526.2834 - val_loss: -533.8192\n",
      "Epoch 47/100\n",
      "60000/60000 [==============================] - 43s - loss: -526.2923 - val_loss: -533.8425\n",
      "Epoch 48/100\n",
      "60000/60000 [==============================] - 42s - loss: -526.3050 - val_loss: -533.8341\n",
      "Epoch 49/100\n",
      "60000/60000 [==============================] - 42s - loss: -526.3175 - val_loss: -533.8001\n",
      "Epoch 50/100\n",
      "60000/60000 [==============================] - 43s - loss: -526.3193 - val_loss: -533.8619\n",
      "Epoch 51/100\n",
      "60000/60000 [==============================] - 43s - loss: -526.3295 - val_loss: -533.8479\n",
      "Epoch 52/100\n",
      "60000/60000 [==============================] - 43s - loss: -526.3420 - val_loss: -533.8629\n",
      "Epoch 53/100\n",
      "60000/60000 [==============================] - 44s - loss: -526.3497 - val_loss: -533.9073\n",
      "Epoch 54/100\n",
      "60000/60000 [==============================] - 44s - loss: -526.3652 - val_loss: -533.8092\n",
      "Epoch 55/100\n",
      "60000/60000 [==============================] - 43s - loss: -526.3707 - val_loss: -533.8684\n",
      "Epoch 56/100\n",
      "60000/60000 [==============================] - 45s - loss: -526.3783 - val_loss: -533.8609\n",
      "Epoch 57/100\n",
      "60000/60000 [==============================] - 42s - loss: -526.3896 - val_loss: -533.9087\n",
      "Epoch 58/100\n",
      "60000/60000 [==============================] - 43s - loss: -526.3926 - val_loss: -533.7915\n",
      "Epoch 59/100\n",
      "60000/60000 [==============================] - 47s - loss: -526.4007 - val_loss: -533.9431\n",
      "Epoch 60/100\n",
      "60000/60000 [==============================] - 46s - loss: -526.4113 - val_loss: -533.9517\n",
      "Epoch 61/100\n",
      "60000/60000 [==============================] - 42s - loss: -526.4176 - val_loss: -533.9643\n",
      "Epoch 62/100\n",
      "60000/60000 [==============================] - 42s - loss: -526.4228 - val_loss: -533.9377\n",
      "Epoch 63/100\n",
      "60000/60000 [==============================] - 43s - loss: -526.4345 - val_loss: -533.8976\n",
      "Epoch 64/100\n",
      "60000/60000 [==============================] - 43s - loss: -526.4443 - val_loss: -533.9664\n",
      "Epoch 65/100\n",
      "60000/60000 [==============================] - 52s - loss: -526.4512 - val_loss: -533.9911\n",
      "Epoch 66/100\n",
      "60000/60000 [==============================] - 49s - loss: -526.4576 - val_loss: -533.9842\n",
      "Epoch 67/100\n",
      "60000/60000 [==============================] - 44s - loss: -526.4668 - val_loss: -533.9669\n",
      "Epoch 68/100\n",
      "60000/60000 [==============================] - 43s - loss: -526.4705 - val_loss: -534.0092\n",
      "Epoch 69/100\n",
      "60000/60000 [==============================] - 44s - loss: -526.4763 - val_loss: -534.0061\n",
      "Epoch 70/100\n",
      "60000/60000 [==============================] - 44s - loss: -526.4862 - val_loss: -534.0247\n",
      "Epoch 71/100\n",
      "60000/60000 [==============================] - 43s - loss: -526.4932 - val_loss: -533.9950\n",
      "Epoch 72/100\n",
      "60000/60000 [==============================] - 45s - loss: -526.4928 - val_loss: -534.0386\n",
      "Epoch 73/100\n",
      "60000/60000 [==============================] - 51s - loss: -526.5047 - val_loss: -534.0232\n",
      "Epoch 74/100\n",
      "60000/60000 [==============================] - 66s - loss: -526.5091 - val_loss: -533.8590\n",
      "Epoch 75/100\n",
      "60000/60000 [==============================] - 74s - loss: -526.5155 - val_loss: -533.8330\n",
      "Epoch 76/100\n",
      "60000/60000 [==============================] - 46s - loss: -526.5213 - val_loss: -534.0442\n",
      "Epoch 77/100\n",
      "60000/60000 [==============================] - 51s - loss: -526.5265 - val_loss: -533.9631\n",
      "Epoch 78/100\n",
      "60000/60000 [==============================] - 51s - loss: -526.5385 - val_loss: -534.0702\n",
      "Epoch 79/100\n",
      "60000/60000 [==============================] - 46s - loss: -526.5388 - val_loss: -533.9823\n",
      "Epoch 80/100\n",
      "60000/60000 [==============================] - 57s - loss: -526.5476 - val_loss: -534.0845\n",
      "Epoch 81/100\n",
      "60000/60000 [==============================] - 45s - loss: -526.5521 - val_loss: -534.0942\n",
      "Epoch 82/100\n",
      "60000/60000 [==============================] - 50s - loss: -526.5566 - val_loss: -534.0242\n",
      "Epoch 83/100\n",
      "60000/60000 [==============================] - 45s - loss: -526.5618 - val_loss: -534.0423\n",
      "Epoch 84/100\n",
      "60000/60000 [==============================] - 44s - loss: -526.5707 - val_loss: -534.0482\n",
      "Epoch 85/100\n",
      "60000/60000 [==============================] - 44s - loss: -526.5768 - val_loss: -534.1197\n",
      "Epoch 86/100\n",
      "60000/60000 [==============================] - 68s - loss: -526.5804 - val_loss: -534.0512\n",
      "Epoch 87/100\n",
      "60000/60000 [==============================] - 67s - loss: -526.5826 - val_loss: -534.1159\n",
      "Epoch 88/100\n",
      "60000/60000 [==============================] - 65s - loss: -526.5840 - val_loss: -534.1331\n",
      "Epoch 89/100\n",
      "60000/60000 [==============================] - 52s - loss: -526.5927 - val_loss: -534.0550\n",
      "Epoch 90/100\n",
      "60000/60000 [==============================] - 44s - loss: -526.6023 - val_loss: -534.1231\n",
      "Epoch 91/100\n",
      "60000/60000 [==============================] - 46s - loss: -526.6006 - val_loss: -534.0711\n",
      "Epoch 92/100\n",
      "60000/60000 [==============================] - 47s - loss: -526.6042 - val_loss: -534.1533\n",
      "Epoch 93/100\n",
      "60000/60000 [==============================] - 60s - loss: -526.6124 - val_loss: -534.1292\n",
      "Epoch 94/100\n",
      "60000/60000 [==============================] - 49s - loss: -526.6171 - val_loss: -534.1664\n",
      "Epoch 95/100\n",
      "60000/60000 [==============================] - 46s - loss: -526.6211 - val_loss: -534.1386\n",
      "Epoch 96/100\n",
      "60000/60000 [==============================] - 46s - loss: -526.6233 - val_loss: -534.1502\n",
      "Epoch 97/100\n",
      "60000/60000 [==============================] - 45s - loss: -526.6273 - val_loss: -534.1489\n",
      "Epoch 98/100\n",
      "60000/60000 [==============================] - 43s - loss: -526.6312 - val_loss: -534.1359\n",
      "Epoch 99/100\n",
      "60000/60000 [==============================] - 46s - loss: -526.6388 - val_loss: -534.0535\n",
      "Epoch 100/100\n",
      "60000/60000 [==============================] - 46s - loss: -526.6379 - val_loss: -534.1641\n"
     ]
    }
   ],
   "source": [
    "# Train the model. Note: you can skip this step as model is saved already.\n",
    "\n",
    "his = autoencoder.fit(x_train_noisy, x_train,\n",
    "                epochs=100,\n",
    "                batch_size=128,\n",
    "                shuffle=True,\n",
    "                validation_data=(x_test_noisy, x_test)\n",
    "               )\n",
    "autoencoder.save('cnn_autoencoder_digit_classifier.model')"
   ]
  },
  {
   "cell_type": "code",
   "execution_count": 37,
   "metadata": {},
   "outputs": [
    {
     "data": {
      "image/png": "[encoded data removed]",
      "text/plain": [
       "<matplotlib.figure.Figure at 0x7f5df2184e48>"
      ]
     },
     "metadata": {
      "needs_background": "light"
     },
     "output_type": "display_data"
    }
   ],
   "source": [
    "# Loading the model\n",
    "autoencoder = tf.keras.models.load_model('cnn_autoencoder_digit_classifier.model')\n",
    "\n",
    "# Making predictions\n",
    "decoded_imgs = autoencoder.predict(x_test_noisy)\n",
    "\n",
    "# Visualizing the predictions\n",
    "n = 7\n",
    "plt.figure(figsize=(20, 4))\n",
    "for i in range(n):\n",
    "    # display original\n",
    "    ax = plt.subplot(2, n, i + 1)\n",
    "    plt.imshow(x_test_noisy[i].reshape(28, 28))\n",
    "    plt.gray()\n",
    "    ax.get_xaxis().set_visible(False)\n",
    "    ax.get_yaxis().set_visible(False)\n",
    "\n",
    "    # display reconstruction\n",
    "    ax = plt.subplot(2, n, i+1+n)\n",
    "    plt.imshow(decoded_imgs[i].reshape(28, 28))\n",
    "    plt.gray()\n",
    "    ax.get_xaxis().set_visible(False)\n",
    "    ax.get_yaxis().set_visible(False)\n",
    "plt.show()"
   ]
  },
  {
   "cell_type": "code",
   "execution_count": 79,
   "metadata": {},
   "outputs": [
    {
     "data": {
      "image/png": "[encoded data removed]",
      "text/plain": [
       "<matplotlib.figure.Figure at 0x7f1c6ed901d0>"
      ]
     },
     "metadata": {},
     "output_type": "display_data"
    }
   ],
   "source": [
    "# 2. Plotting the training & validation loss.\n",
    "\n",
    "train_loss=his.history['loss']\n",
    "val_loss=his.history['val_loss']\n",
    "# train_acc=his.history['acc']\n",
    "# val_acc=his.history['val_acc']\n",
    "xc=range(100)\n",
    "\n",
    "plt.figure(1,figsize=(7,5))\n",
    "plt.plot(xc,train_loss)\n",
    "plt.plot(xc,val_loss)\n",
    "plt.xlabel('num of Epochs')\n",
    "plt.ylabel('loss')\n",
    "plt.title('train_loss vs val_loss')\n",
    "plt.grid(True)\n",
    "\n"
   ]
  },
  {
   "cell_type": "code",
   "execution_count": 80,
   "metadata": {},
   "outputs": [],
   "source": [
    "autoencoder.save_weights('cnn_autoencoder_digit_classifier_weights.h5')\n"
   ]
  },
  {
   "cell_type": "code",
   "execution_count": 57,
   "metadata": {},
   "outputs": [
    {
     "name": "stdout",
     "output_type": "stream",
     "text": [
      "x_train shape: (60000, 28, 28, 1)\n",
      "Number of images in x_train 60000\n",
      "Number of images in x_test 10000\n"
     ]
    }
   ],
   "source": [
    "# load datset\n",
    "(x_train, y_train), (x_test, y_test) = mnist.load_data()\n",
    "\n",
    "# Reshaping the array to 4-dims so that it can work with the Keras API\n",
    "x_train = x_train.reshape(x_train.shape[0], 28, 28, 1)\n",
    "x_test = x_test.reshape(x_test.shape[0], 28, 28, 1)\n",
    "input_shape = (28, 28, 1)\n",
    "# Making sure that the values are float so that we can get decimal points after division\n",
    "x_train = x_train.astype('float32')\n",
    "x_test = x_test.astype('float32')\n",
    "# Normalizing the RGB codes by dividing it to the max RGB value.\n",
    "x_train /= 255\n",
    "x_test /= 255\n",
    "print('x_train shape:', x_train.shape)\n",
    "print('Number of images in x_train', x_train.shape[0])\n",
    "print('Number of images in x_test', x_test.shape[0])"
   ]
  },
  {
   "cell_type": "code",
   "execution_count": 65,
   "metadata": {},
   "outputs": [],
   "source": [
    "# 3. Extracting encoder layer and building a model to classify the digits.\n",
    "input_shape = (28, 28, 1)\n",
    "hidden_representation = Sequential()\n",
    "hidden_representation.add(Conv2D(28, kernel_size=(3,3), input_shape=input_shape))\n",
    "# hidden_representation.add(autoencoder.layers[1])\n",
    "hidden_representation.add(autoencoder.layers[2])\n",
    "hidden_representation.add(Flatten())\n",
    "hidden_representation.add(Dense(128, activation=tf.nn.relu))\n",
    "hidden_representation.add(Dropout(0.2))\n",
    "hidden_representation.add(Dense(10,activation=tf.nn.softmax))"
   ]
  },
  {
   "cell_type": "code",
   "execution_count": 66,
   "metadata": {},
   "outputs": [
    {
     "name": "stdout",
     "output_type": "stream",
     "text": [
      "Epoch 1/10\n",
      "60000/60000 [==============================] - 16s 267us/sample - loss: 0.2045 - acc: 0.9387\n",
      "Epoch 2/10\n",
      "60000/60000 [==============================] - 16s 264us/sample - loss: 0.0828 - acc: 0.9751\n",
      "Epoch 3/10\n",
      "60000/60000 [==============================] - 16s 266us/sample - loss: 0.0575 - acc: 0.9821\n",
      "Epoch 4/10\n",
      "60000/60000 [==============================] - 17s 278us/sample - loss: 0.0457 - acc: 0.9853\n",
      "Epoch 5/10\n",
      "60000/60000 [==============================] - 16s 267us/sample - loss: 0.0352 - acc: 0.9887\n",
      "Epoch 6/10\n",
      "60000/60000 [==============================] - 16s 273us/sample - loss: 0.0314 - acc: 0.9896\n",
      "Epoch 7/10\n",
      "60000/60000 [==============================] - 16s 274us/sample - loss: 0.0254 - acc: 0.9915\n",
      "Epoch 8/10\n",
      "60000/60000 [==============================] - 16s 273us/sample - loss: 0.0216 - acc: 0.9925\n",
      "Epoch 9/10\n",
      "60000/60000 [==============================] - 17s 277us/sample - loss: 0.0194 - acc: 0.9937\n",
      "Epoch 10/10\n",
      "60000/60000 [==============================] - 17s 280us/sample - loss: 0.0193 - acc: 0.9934\n"
     ]
    },
    {
     "data": {
      "text/plain": [
       "<tensorflow.python.keras.callbacks.History at 0x7f5d8004d860>"
      ]
     },
     "execution_count": 66,
     "metadata": {},
     "output_type": "execute_result"
    }
   ],
   "source": [
    "hidden_representation.compile(optimizer='adam', \n",
    "              loss='sparse_categorical_crossentropy', \n",
    "              metrics=['accuracy'])\n",
    "# y_train_c = keras.utils.to_categorical(y_train, num_classes=None)\n",
    "hidden_representation.fit(x=x_train,y=y_train, epochs=10)"
   ]
  },
  {
   "cell_type": "code",
   "execution_count": 72,
   "metadata": {},
   "outputs": [
    {
     "name": "stdout",
     "output_type": "stream",
     "text": [
      "10000/10000 [==============================] - 1s 106us/sample - loss: 0.0554 - acc: 0.9856\n"
     ]
    },
    {
     "data": {
      "text/plain": [
       "[0.05541581680829859, 0.9856]"
      ]
     },
     "execution_count": 72,
     "metadata": {},
     "output_type": "execute_result"
    }
   ],
   "source": [
    "hidden_representation.evaluate(x_test, y_test)"
   ]
  },
  {
   "cell_type": "code",
   "execution_count": 68,
   "metadata": {},
   "outputs": [
    {
     "name": "stdout",
     "output_type": "stream",
     "text": [
      "Model: \"sequential_6\"\n",
      "_________________________________________________________________\n",
      "Layer (type)                 Output Shape              Param #   \n",
      "=================================================================\n",
      "conv2d (Conv2D)              (None, 26, 26, 28)        280       \n",
      "_________________________________________________________________\n",
      "max_pooling2d_7 (MaxPooling2 multiple                  0         \n",
      "_________________________________________________________________\n",
      "flatten_4 (Flatten)          (None, 4732)              0         \n",
      "_________________________________________________________________\n",
      "dense_4 (Dense)              (None, 128)               605824    \n",
      "_________________________________________________________________\n",
      "dropout_2 (Dropout)          (None, 128)               0         \n",
      "_________________________________________________________________\n",
      "dense_5 (Dense)              (None, 10)                1290      \n",
      "=================================================================\n",
      "Total params: 607,394\n",
      "Trainable params: 607,394\n",
      "Non-trainable params: 0\n",
      "_________________________________________________________________\n"
     ]
    }
   ],
   "source": [
    "hidden_representation.summary()"
   ]
  },
  {
   "cell_type": "code",
   "execution_count": 69,
   "metadata": {},
   "outputs": [],
   "source": [
    "hidden_representation.save('cnn_encoder_extraction_digit_classifier.model')"
   ]
  },
  {
   "cell_type": "code",
   "execution_count": 67,
   "metadata": {},
   "outputs": [
    {
     "name": "stdout",
     "output_type": "stream",
     "text": [
      "3\n"
     ]
    },
    {
     "data": {
      "image/png": "[encoded data removed]",
      "text/plain": [
       "<matplotlib.figure.Figure at 0x7f5d79f539b0>"
      ]
     },
     "metadata": {
      "needs_background": "light"
     },
     "output_type": "display_data"
    }
   ],
   "source": [
    "# Demo of classifier prediction.\n",
    "\n",
    "image_index = 44\n",
    "plt.imshow(x_test[image_index].reshape(28, 28),cmap='Greys')\n",
    "reshaped_img = x_test[image_index].reshape(1, 28, 28, 1)\n",
    "pred = hidden_representation.predict(reshaped_img)\n",
    "print(pred.argmax())"
   ]
  },
  {
   "cell_type": "code",
   "execution_count": 34,
   "metadata": {},
   "outputs": [
    {
     "name": "stdout",
     "output_type": "stream",
     "text": [
      "WARNING:tensorflow:Error in loading the saved optimizer state. As a result, your model is starting with a freshly initialized optimizer.\n",
      "WARNING:tensorflow:Error in loading the saved optimizer state. As a result, your model is starting with a freshly initialized optimizer.\n"
     ]
    }
   ],
   "source": [
    "import numpy as np\n",
    "import pandas as pd\n",
    "import matplotlib.pyplot as plt\n",
    "\n",
    "# from tensorflow.keras import Sequential\n",
    "# from tensorflow.keras.layers import Conv2D, MaxPool2D, Dense, Flatten, Dropout\n",
    "import tensorflow as tf\n",
    "\n",
    "new_model = tf.keras.models.load_model('cnn_autoencoder_digit_classifier.model')"
   ]
  },
  {
   "cell_type": "code",
   "execution_count": 14,
   "metadata": {},
   "outputs": [
    {
     "name": "stdout",
     "output_type": "stream",
     "text": [
      "Epoch 1/10\n",
      "120000/120000 [==============================] - 48s - loss: 2.2725 - acc: 0.7491    \n",
      "Epoch 2/10\n",
      "120000/120000 [==============================] - 46s - loss: 1.7789 - acc: 0.8028    \n",
      "Epoch 3/10\n",
      "120000/120000 [==============================] - 50s - loss: 1.5858 - acc: 0.8218    \n",
      "Epoch 4/10\n",
      "120000/120000 [==============================] - 51s - loss: 1.5175 - acc: 0.8278    \n",
      "Epoch 5/10\n",
      "120000/120000 [==============================] - 52s - loss: 1.5302 - acc: 0.8302    \n",
      "Epoch 6/10\n",
      "120000/120000 [==============================] - 51s - loss: 1.3753 - acc: 0.8406    \n",
      "Epoch 7/10\n",
      "120000/120000 [==============================] - 51s - loss: 1.4625 - acc: 0.8370    \n",
      "Epoch 8/10\n",
      "120000/120000 [==============================] - 51s - loss: 1.3878 - acc: 0.8416    \n",
      "Epoch 9/10\n",
      "120000/120000 [==============================] - 51s - loss: 1.3761 - acc: 0.8465    \n",
      "Epoch 10/10\n",
      "120000/120000 [==============================] - 52s - loss: 1.4294 - acc: 0.8419    \n"
     ]
    }
   ],
   "source": [
    "# Additional work : Trying to build a network with sum of noisy and unnoisy data.\n",
    "\n",
    "input_shape = (28, 28, 1)\n",
    "# Creating a Sequential Model and adding the layers\n",
    "model = Sequential()\n",
    "model.add(Conv2D(28, kernel_size=(3,3), input_shape=input_shape))\n",
    "model.add(MaxPooling2D(pool_size=(2, 2)))\n",
    "model.add(Flatten()) # Flattening the 2D arrays for fully connected layers\n",
    "model.add(Dense(128, activation=tf.nn.relu))\n",
    "model.add(Dropout(0.2))\n",
    "model.add(Dense(10,activation=tf.nn.softmax))\n",
    "\n",
    "\n",
    "decoded_x_train = new_model.predict(x_train_noisy)\n",
    "new_x_trained = np.concatenate((decoded_x_train, x_train), axis=0)\n",
    "new_y_trained = np.concatenate((y_train, y_train), axis=0)\n",
    "\n",
    "model.compile(optimizer='adam', \n",
    "              loss='sparse_categorical_crossentropy', \n",
    "              metrics=['accuracy'])\n",
    "\n",
    "\n",
    "final_model_his = model.fit(x=new_x_trained, y=new_y_trained, epochs=10)\n",
    "model.save('cnn_TR120000_number_reader_with_noise.model')"
   ]
  },
  {
   "cell_type": "code",
   "execution_count": 20,
   "metadata": {},
   "outputs": [
    {
     "name": "stdout",
     "output_type": "stream",
     "text": [
      "WARNING:tensorflow:Error in loading the saved optimizer state. As a result, your model is starting with a freshly initialized optimizer.\n"
     ]
    }
   ],
   "source": [
    "model_trained_without_noise = tf.keras.models.load_model('cnn_TR60000_number_reader.model')"
   ]
  },
  {
   "cell_type": "code",
   "execution_count": 45,
   "metadata": {},
   "outputs": [],
   "source": [
    "prediction_by_model_v1 = model_trained_without_noise.predict(x_test_noisy)\n"
   ]
  },
  {
   "cell_type": "code",
   "execution_count": 31,
   "metadata": {},
   "outputs": [
    {
     "name": "stdout",
     "output_type": "stream",
     "text": [
      "9\n"
     ]
    },
    {
     "data": {
      "image/png": "[encoded data removed]",
      "text/plain": [
       "<matplotlib.figure.Figure at 0x7f28a01cc048>"
      ]
     },
     "metadata": {
      "needs_background": "light"
     },
     "output_type": "display_data"
    }
   ],
   "source": [
    "image_index = 4\n",
    "plt.imshow(x_train_noisy[image_index].reshape(28, 28),cmap='Greys')\n",
    "reshaped_img = x_train_noisy[image_index].reshape(1, 28, 28, 1)\n",
    "pred = model.predict(reshaped_img)\n",
    "print(pred.argmax())\n"
   ]
  },
  {
   "cell_type": "code",
   "execution_count": 46,
   "metadata": {},
   "outputs": [
    {
     "name": "stdout",
     "output_type": "stream",
     "text": [
      "Acurracy on noisy test dataset : V1: 88.7 % V2: 78.21000000000001 %\n",
      "Total text miss classified by v1 and True classified by v2 :  692 [48, 49, 65, 66, 80, 95, 111, 115, 121, 139, 159, 166, 167, 182, 199, 211, 219, 222, 250, 273, 282, 301, 308, 317, 325, 340, 347, 376, 395, 399, 405, 406, 412, 428, 433, 445, 447, 460, 502, 519, 532, 547, 571, 619, 645, 659, 689, 694, 712, 738, 748, 752, 756, 760, 766, 775, 791, 797, 834, 857, 869, 874, 881, 922, 951, 955, 975, 990, 1002, 1022, 1024, 1032, 1046, 1059, 1082, 1087, 1089, 1112, 1116, 1135, 1153, 1156, 1157, 1169, 1178, 1182, 1242, 1243, 1244, 1270, 1274, 1285, 1289, 1299, 1331, 1357, 1370, 1376, 1378, 1391, 1395, 1403, 1405, 1406, 1411, 1422, 1440, 1447, 1453, 1467, 1475, 1505, 1516, 1518, 1543, 1546, 1549, 1551, 1557, 1566, 1571, 1575, 1614, 1620, 1621, 1637, 1684, 1688, 1725, 1741, 1747, 1751, 1767, 1806, 1809, 1816, 1847, 1864, 1865, 1871, 1879, 1911, 1938, 1940, 1941, 1943, 1956, 1970, 2001, 2025, 2035, 2053, 2073, 2078, 2090, 2094, 2098, 2101, 2110, 2130, 2138, 2148, 2162, 2183, 2197, 2205, 2218, 2234, 2237, 2238, 2265, 2362, 2415, 2447, 2449, 2464, 2481, 2489, 2509, 2514, 2515, 2525, 2545, 2577, 2586, 2589, 2597, 2604, 2610, 2630, 2645, 2651, 2670, 2680, 2698, 2709, 2713, 2715, 2773, 2797, 2814, 2828, 2832, 2836, 2850, 2855, 2879, 2901, 2907, 2915, 2930, 2938, 2961, 2969, 2987, 3004, 3029, 3042, 3047, 3059, 3063, 3066, 3085, 3102, 3114, 3115, 3183, 3201, 3232, 3250, 3256, 3267, 3282, 3288, 3303, 3336, 3341, 3367, 3377, 3383, 3388, 3396, 3405, 3410, 3422, 3429, 3437, 3453, 3495, 3498, 3533, 3534, 3537, 3543, 3552, 3604, 3631, 3643, 3672, 3718, 3722, 3726, 3729, 3736, 3762, 3763, 3776, 3806, 3828, 3837, 3855, 3890, 3906, 3928, 3929, 3941, 3952, 3969, 3971, 3994, 3998, 4012, 4017, 4027, 4037, 4056, 4067, 4071, 4072, 4156, 4160, 4178, 4194, 4196, 4212, 4215, 4221, 4228, 4254, 4265, 4274, 4291, 4312, 4313, 4323, 4350, 4360, 4364, 4379, 4382, 4396, 4400, 4438, 4440, 4458, 4461, 4465, 4514, 4519, 4521, 4534, 4536, 4558, 4583, 4598, 4609, 4619, 4639, 4656, 4660, 4668, 4677, 4695, 4713, 4721, 4722, 4738, 4745, 4751, 4762, 4783, 4798, 4809, 4826, 4827, 4861, 4866, 4874, 4880, 4896, 4902, 4911, 4941, 4942, 4950, 4971, 4974, 5020, 5039, 5083, 5089, 5098, 5102, 5159, 5175, 5201, 5207, 5229, 5389, 5397, 5401, 5410, 5420, 5440, 5448, 5509, 5551, 5561, 5577, 5597, 5608, 5626, 5632, 5633, 5649, 5654, 5655, 5676, 5709, 5714, 5745, 5752, 5773, 5802, 5821, 5832, 5833, 5842, 5851, 5874, 5918, 5923, 5926, 5936, 5937, 5939, 5944, 5969, 5972, 5973, 5975, 5985, 5986, 5992, 5997, 6007, 6013, 6019, 6023, 6046, 6053, 6067, 6077, 6084, 6087, 6093, 6098, 6120, 6136, 6139, 6142, 6146, 6148, 6155, 6160, 6165, 6168, 6170, 6171, 6215, 6227, 6291, 6390, 6400, 6414, 6434, 6460, 6468, 6471, 6518, 6528, 6530, 6553, 6598, 6677, 6705, 6715, 6716, 6718, 6721, 6723, 6725, 6728, 6730, 6741, 6742, 6761, 6765, 6769, 6775, 6788, 6866, 6886, 6899, 6912, 6914, 6941, 6942, 6964, 6977, 6981, 6997, 7001, 7002, 7029, 7032, 7077, 7115, 7135, 7153, 7186, 7210, 7273, 7284, 7294, 7304, 7306, 7315, 7320, 7332, 7338, 7351, 7352, 7361, 7376, 7391, 7393, 7394, 7403, 7421, 7454, 7456, 7459, 7460, 7473, 7483, 7494, 7505, 7511, 7521, 7528, 7531, 7538, 7541, 7542, 7573, 7577, 7578, 7595, 7619, 7657, 7729, 7732, 7742, 7752, 7757, 7764, 7777, 7793, 7797, 7809, 7813, 7819, 7826, 7850, 7856, 7870, 7897, 7902, 7908, 7912, 7915, 7924, 7928, 7948, 7982, 7996, 7997, 8020, 8035, 8038, 8059, 8061, 8062, 8064, 8071, 8072, 8079, 8081, 8089, 8092, 8095, 8102, 8103, 8107, 8110, 8112, 8115, 8142, 8149, 8155, 8158, 8160, 8170, 8180, 8204, 8257, 8269, 8276, 8280, 8309, 8316, 8320, 8321, 8327, 8329, 8348, 8378, 8412, 8472, 8473, 8485, 8497, 8498, 8502, 8507, 8510, 8511, 8512, 8519, 8525, 8527, 8541, 8606, 8607, 8652, 8676, 8686, 8695, 8702, 8711, 8736, 8737, 8761, 8788, 8853, 8917, 8941, 8954, 8964, 9006, 9008, 9012, 9082, 9103, 9117, 9123, 9184, 9194, 9202, 9208, 9209, 9211, 9228, 9303, 9338, 9382, 9391, 9422, 9427, 9428, 9465, 9471, 9477, 9478, 9492, 9500, 9503, 9513, 9530, 9537, 9576, 9584, 9606, 9626, 9651, 9669, 9675, 9709, 9711, 9719, 9728, 9733, 9738, 9745, 9747, 9749, 9754, 9764, 9766, 9777, 9783, 9786, 9792, 9830, 9835, 9867, 9870, 9955, 9970, 9988, 9998]\n"
     ]
    }
   ],
   "source": [
    "# image_index = 4\n",
    "index_classified = []\n",
    "index_classified_v1 = []\n",
    "index_classified_v2 = []\n",
    "# plt.imshow(x_train_noisy[image_index].reshape(28, 28),cmap='Greys')\n",
    "for image_index in range(len(y_test)):\n",
    "    reshaped_img = x_test_noisy[image_index].reshape(1, 28, 28, 1)\n",
    "    pred_v1 = model_trained_without_noise.predict(reshaped_img)\n",
    "    pred_v2 = model.predict(reshaped_img)\n",
    "    label = y_test[image_index]\n",
    "    if pred_v1.argmax() != label and pred_v2.argmax() == label:\n",
    "        index_classified.append(image_index)\n",
    "    if pred_v1.argmax() == label: index_classified_v1.append(image_index)\n",
    "    if pred_v2.argmax() == label: index_classified_v2.append(image_index)\n",
    "#         print(y_test[image_index], pred_v1.argmax(), pred_v2.argmax())\n",
    "v1_accuracy = (len(index_classified_v1)/len(x_test_noisy))*100\n",
    "v2_accuracy = (len(index_classified_v2)/len(x_test_noisy))*100\n",
    "print(\"Acurracy on noisy test dataset : V1: {} % V2: {} %\".format(v1_accuracy, v2_accuracy))\n",
    "print(\"Total text miss classified by v1 and True classified by v2 : \", len(index_classified), index_classified)"
   ]
  }
 ],
 "metadata": {
  "kernelspec": {
   "display_name": "Python 3",
   "language": "python",
   "name": "python3"
  },
  "language_info": {
   "codemirror_mode": {
    "name": "ipython",
    "version": 3
   },
   "file_extension": ".py",
   "mimetype": "text/x-python",
   "name": "python",
   "nbconvert_exporter": "python",
   "pygments_lexer": "ipython3",
   "version": "3.5.2"
  }
 },
 "nbformat": 4,
 "nbformat_minor": 4
}
